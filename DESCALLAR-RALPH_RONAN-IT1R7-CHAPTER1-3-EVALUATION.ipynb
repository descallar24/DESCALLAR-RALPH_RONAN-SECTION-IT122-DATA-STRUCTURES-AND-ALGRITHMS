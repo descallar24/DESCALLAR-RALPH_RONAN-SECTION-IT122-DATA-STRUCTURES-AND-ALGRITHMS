{
 "cells": [
  {
   "cell_type": "code",
   "execution_count": 5,
   "id": "mathematical-audience",
   "metadata": {},
   "outputs": [
    {
     "name": "stdout",
     "output_type": "stream",
     "text": [
      "Discuss your learnings on Chapter 1  time-frame 8:00 - 30:35. Minimum of 200 characters\n",
      "Chapter 1 learning are the following: \n",
      "3 types of characteristic of a data structure \n",
      "1.Correctness- simple as implement corrrectly \n",
      "2.Time Complexity- as small as possible \n",
      "3.Space Complexity-little as possible \n",
      "3 execution time cases \n",
      "Worst case- scenario where is the maximum time in operation double of triple it.\n",
      "Average case-where the operation is in average time of execution.\n",
      "Best case-best execute which in time and fast as possible. \n",
      "Ensights why we need to learn data structure algorithm: \n",
      "as the application now a days the its getting complex and data rich, thisa are the three common problems face: \n",
      "Data search- consider as the inventory of millions of items in the store as the data grows search will become slower. \n",
      "Processor speed- no matter how speed is it, it have limit fall as the data grows to billion. \n",
      "Multiple request- because of the thousands of user it fails in searching. \n",
      "so data structure is the recue if problems like this is comming data will be organized in data structure in such way that the items will not required to searchd but its instantly. \n",
      "Application of data structure and algorithms: \n",
      "Search- algorithm to search an item in data structure \n",
      "sort- algorithm to sort items in a certain order. \n",
      "insert- algorithm to insert item in data structure \n",
      "update- algorithm to update an existing item in data structure \n",
      "delete- algorithm to delete an existing item from a data structure. \n",
      "this are the basic terminology in algorithms data, data item, group item, elemtary items, attribute and entity,entity set, field, record, files. \n",
      "ALGORITHM is any well-defined computational procedure that takes some value, or set of values, as input and produces some value, or set of  values, as output. \n",
      "this are the following characteristics of algorithm unambiguous, input, output, finiteness, feasibility and independent. \n",
      "How to write an algorithm: it have a problem and resource independent. \n",
      "2 types of Algorithm analysis:  \n",
      "Priori analysis- measured by assuming that ll other factors. \n",
      "Posterior Analysis- the selected algorithm is implimented using programming language. \n",
      "Algorithm complexity: \n",
      "Time Factor- Time is measured\n",
      "Space Factor- Space is measured \n"
     ]
    }
   ],
   "source": [
    "print(\"Discuss your learnings on Chapter 1  time-frame 8:00 - 30:35. Minimum of 200 characters\")\n",
    "       \n",
    "print(\"Chapter 1 learning are the following: \")\n",
    "print(\"3 types of characteristic of a data structure \")\n",
    "print(\"1.Correctness- simple as implement corrrectly \")\n",
    "print(\"2.Time Complexity- as small as possible \")\n",
    "print(\"3.Space Complexity-little as possible \")\n",
    "print(\"3 execution time cases \")\n",
    "print(\"Worst case- scenario where is the maximum time in operation double of triple it.\")\n",
    "print(\"Average case-where the operation is in average time of execution.\")\n",
    "print(\"Best case-best execute which in time and fast as possible. \")\n",
    "print(\"Ensights why we need to learn data structure algorithm: \")\n",
    "print(\"as the application now a days the its getting complex and data rich, thisa are the three common problems face: \")\n",
    "print(\"Data search- consider as the inventory of millions of items in the store as the data grows search will become slower. \")\n",
    "print(\"Processor speed- no matter how speed is it, it have limit fall as the data grows to billion. \")\n",
    "print(\"Multiple request- because of the thousands of user it fails in searching. \")\n",
    "print(\"so data structure is the recue if problems like this is comming data will be organized in data structure in such way that the items will not required to searchd but its instantly. \")\n",
    "print(\"Application of data structure and algorithms: \")\n",
    "print(\"Search- algorithm to search an item in data structure \")\n",
    "print(\"sort- algorithm to sort items in a certain order. \")\n",
    "print(\"insert- algorithm to insert item in data structure \")\n",
    "print(\"update- algorithm to update an existing item in data structure \")\n",
    "print(\"delete- algorithm to delete an existing item from a data structure. \")\n",
    "print(\"this are the basic terminology in algorithms data, data item, group item, elemtary items, attribute and entity,entity set, field, record, files. \")\n",
    "print(\"ALGORITHM is any well-defined computational procedure that takes some value, or set of values, as input and produces some value, or set of  values, as output. \")\n",
    "print(\"this are the following characteristics of algorithm unambiguous, input, output, finiteness, feasibility and independent. \")\n",
    "print(\"How to write an algorithm: it have a problem and resource independent. \")\n",
    "print(\"2 types of Algorithm analysis:  \")\n",
    "print(\"Priori analysis- measured by assuming that ll other factors. \")\n",
    "print(\"Posterior Analysis- the selected algorithm is implimented using programming language. \")\n",
    "print(\"Algorithm complexity: \")\n",
    "print(\"Time Factor- Time is measured\")\n",
    "print(\"Space Factor- Space is measured \")\n",
    "\n"
   ]
  },
  {
   "cell_type": "code",
   "execution_count": null,
   "id": "indirect-intro",
   "metadata": {},
   "outputs": [],
   "source": [
    "print(\"Discuss your learnings on Chapter 1  time-frame 35:00 - end. Minimum of 200 characters\n",
    "\")\n",
    "\n",
    "print(\"Space Complexity of an algorithm represents the amount of memory space required by the algorithm in its life cycle. \")\n",
    "print(\"The space required by an algorithm is equal to the sum of the following two components. \")\n",
    "print(\"1st is a fixed part is a space required to store certain data and variables, that are independent of the size of the problem. \")\n",
    "print(\"2nd A variable part is a space required by variables whose size depends on the size of the problem. \")\n",
    "print(\"Example: \")\n",
    "print(\"Algorithm: SUM(A, B) \")\n",
    "print(\"S1: start \")\n",
    "print(\"S2: C <- A + B + 10 \")\n",
    "print(\"S3: stop \")\n",
    "print(\"here we have three variables A, B, and C and one constant, hence S(P) = 1+3, so the space depends on  \")\n",
    "print(\"data types of given variables and constant types and it will be multiplied accordingly. \")\n",
    "print(\"Time complexity of an algorithm represents the amount of time required by the algorithm to run to completion.  \")\n",
    "print(\"Time requirements can be defined as numirical function T(n), where T(n) can be measured as the number of steps, provided each step consumes constant time. \")\n",
    "print(\"Local Environment Set up \")\n",
    "print(\"Install Pycharm \")\n",
    "      "
   ]
  },
  {
   "cell_type": "code",
   "execution_count": 2,
   "id": "introductory-caribbean",
   "metadata": {},
   "outputs": [
    {
     "name": "stdout",
     "output_type": "stream",
     "text": [
      "Discuss your learnings on Chapter 2  time-frame 5:00 - 9:00. Minimum of 200 characters\n",
      "As I have watched the video discussion, \n",
      "I’ve learned that Data is has different characteristics to define \n",
      "a particular data. Which means that there is a way to define or  \n",
      "classify various data type, and it is called Data Type. \n",
      "There are 4 types  \n",
      "atomic which means it is single concept. \n",
      "tracable is something should be able to be mapped to some data elements. \n",
      "accurate it should be unambiguous. \n",
      "clear and concise it should be understandable. \n",
      "There are two types of Data Type; Built in and Derived Data Type.  \n",
      "Built-in is a type of data that it’s data language has a built-in support. \n",
      "this are the examples of built in data types: \n",
      "integers- whole numbers \n",
      "boolean - true or false \n",
      "floating - decimal numbers \n",
      "character and strings \n",
      "Meanwhile, Derived is considered as implementation independent data type. \n",
      "This are exmaples of derived data types: \n",
      "List, Array, Stack and Queue. \n",
      " For it is a combination of primary and associated with other  \n",
      " \n",
      " \n"
     ]
    }
   ],
   "source": [
    "print(\"Discuss your learnings on Chapter 2  time-frame 5:00 - 9:00. Minimum of 200 characters\")\n",
    "\n",
    "print(\"As I have watched the video discussion, \")\n",
    "print(\"I’ve learned that Data is has different characteristics to define \")\n",
    "print(\"a particular data. Which means that there is a way to define or  \")\n",
    "print(\"classify various data type, and it is called Data Type. \")\n",
    "print(\"There are 4 types  \")\n",
    "print(\"atomic which means it is single concept. \")\n",
    "print(\"tracable is something should be able to be mapped to some data elements. \")\n",
    "print(\"accurate it should be unambiguous. \")\n",
    "print(\"clear and concise it should be understandable. \")\n",
    "print(\"There are two types of Data Type; Built in and Derived Data Type.  \")\n",
    "print(\"Built-in is a type of data that it’s data language has a built-in support. \")\n",
    "print(\"this are the examples of built in data types: \")\n",
    "print(\"integers- whole numbers \")\n",
    "print(\"boolean - true or false \")\n",
    "print(\"floating - decimal numbers \")\n",
    "print(\"character and strings \")\n",
    "print(\"Meanwhile, Derived is considered as implementation independent data type. \")\n",
    "print(\"This are exmaples of derived data types: \")\n",
    "print(\"List, Array, Stack and Queue. \")\n",
    "print(\" For it is a combination of primary and associated with other operations. \")\n",
    "print(\"These operations will then be processed by a certain operations; Traversing, Searching, Insertion, Deletion, Sorting and Merging.\")\n",
    "print(\"And then, the particular data structure will then be depend on the frequency of operation. \")"
   ]
  },
  {
   "cell_type": "code",
   "execution_count": 6,
   "id": "legendary-review",
   "metadata": {},
   "outputs": [
    {
     "name": "stdout",
     "output_type": "stream",
     "text": [
      "Discuss your learnings on Chapter 3  time-frame 3:00 - 18:00. Minimum of 200 characters\n",
      "Array ca be declared in various way in different languages. \n",
      "index starts with 0 then 1,2,3 and so on. \n",
      "array length or max is 10 which it can store 10 elements. \n",
      "each elements can be accessed via its index. \n",
      "Following are the basic operations supported by an array: \n",
      "traverse- print all the array elements one by one. \n",
      "insertion- adds an element at the given index. \n",
      "deletion- deletes an element at the given index. \n",
      "search- searches an element using the given index or by the value. \n",
      " \n"
     ]
    }
   ],
   "source": [
    "print(\"Discuss your learnings on Chapter 3  time-frame 3:00 - 18:00. Minimum of 200 characters\")\n",
    "print(\"Array ca be declared in various way in different languages. \")\n",
    "print(\"index starts with 0 then 1,2,3 and so on. \")\n",
    "print(\"array length or max is 10 which it can store 10 elements. \")\n",
    "print(\"each elements can be accessed via its index. \")\n",
    "print(\"Following are the basic operations supported by an array: \")\n",
    "print(\"traverse- print all the array elements one by one. \")\n",
    "print(\"insertion- adds an element at the given index. \")\n",
    "print(\"deletion- deletes an element at the given index. \")\n",
    "print(\"search- searches an element using the given index or by the value. \")\n",
    "print(\"update- updates an element at the given index. \")\n",
    "print(\"array created in python by importing array module to the python program. \")\n",
    "print(\"then array declared from array import* \")\n",
    "print(\"this are the basic body or shape of an array: \")\n",
    "print(\"array name = array (typecode,[intializers]) \")\n",
    "print(\"Typecode are the codes that are used to define the type of value  \")\n",
    "print(\"the array will hold some common typecodes used are: \")\n",
    "print(\"b- signed integer of size 1 byte/td> \")\n",
    "print(\"B- unsigned integers of size 1 byte \")\n",
    "print(\"c- character of size 1 byte \")\n",
    "print(\"i- signed integer of size 2 bytes \")\n",
    "print(\"I- unsigned integer of size 2 bytes \")\n",
    "print(\"f- floating point of size 4 bytes \")\n",
    "print(\"d- floating point of size 8 bytes \")"
   ]
  },
  {
   "cell_type": "code",
   "execution_count": 21,
   "id": "documentary-breath",
   "metadata": {
    "tags": []
   },
   "outputs": [
    {
     "name": "stdout",
     "output_type": "stream",
     "text": [
      "Create your first array project.\n",
      "Notes:\n",
      "- Name your array as any array\n",
      "- select any type code\n",
      "- choose any array size and values\n",
      "- display array values\n",
      "22.0\n",
      "1.0\n",
      "1.0\n",
      "5.0\n",
      "1.0\n"
     ]
    }
   ],
   "source": [
    "print(\"Create your first array project.\")\n",
    "print(\"Notes:\") \n",
    "print(\"- Name your array as any array\")\n",
    "print(\"- select any type code\")\n",
    "print(\"- choose any array size and values\")\n",
    "print(\"- display array values\")      \n",
    "\n",
    "from array import*\n",
    "Doks = array('d', [1, 4, 5, 1])\n",
    "Doks[1]= 1\n",
    "Doks.insert(0,22)\n",
    "\n",
    "for x in Doks:\n",
    "    print(x)"
   ]
  },
  {
   "cell_type": "code",
   "execution_count": null,
   "id": "operating-corrections",
   "metadata": {
    "jupyter": {
     "source_hidden": true
    },
    "tags": []
   },
   "outputs": [],
   "source": []
  }
 ],
 "metadata": {
  "kernelspec": {
   "display_name": "Python 3",
   "language": "python",
   "name": "python3"
  },
  "language_info": {
   "codemirror_mode": {
    "name": "ipython",
    "version": 3
   },
   "file_extension": ".py",
   "mimetype": "text/x-python",
   "name": "python",
   "nbconvert_exporter": "python",
   "pygments_lexer": "ipython3",
   "version": "3.9.2"
  }
 },
 "nbformat": 4,
 "nbformat_minor": 5
}
